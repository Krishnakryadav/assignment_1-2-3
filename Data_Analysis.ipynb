{
  "nbformat": 4,
  "nbformat_minor": 0,
  "metadata": {
    "colab": {
      "name": "Data Analysis.ipynb",
      "provenance": [],
      "authorship_tag": "ABX9TyMTgkJH9u9aXAV2wOKPTYcQ",
      "include_colab_link": true
    },
    "kernelspec": {
      "name": "python3",
      "display_name": "Python 3"
    },
    "language_info": {
      "name": "python"
    }
  },
  "cells": [
    {
      "cell_type": "markdown",
      "metadata": {
        "id": "view-in-github",
        "colab_type": "text"
      },
      "source": [
        "<a href=\"https://colab.research.google.com/github/Krishnakryadav/assignment_1-2-3/blob/main/Data_Analysis.ipynb\" target=\"_parent\"><img src=\"https://colab.research.google.com/assets/colab-badge.svg\" alt=\"Open In Colab\"/></a>"
      ]
    },
    {
      "cell_type": "code",
      "metadata": {
        "id": "ZZjl3BAZhzeq"
      },
      "source": [
        "Q1. The prime factors of 13195 are 5, 7, 13 and 29. What is the largest prime factor of the number?\n",
        "\n",
        "euler <- function(n) {\n",
        "  if (n==1) return(NULL)\n",
        "  if (n==2) return(n)\n",
        "  l <- 2:n\n",
        "  i <- 1\n",
        "  p <- 2\n",
        "  while (p^2<=n) {\n",
        "    l <- l[l==p | l%%p!=0]\n",
        "    i <- i+1 \n",
        "    p <- l[i]\n",
        "  }\n",
        "  return(l)\n",
        "}\n",
        "\n",
        "prime.factors <- function (n) {\n",
        "  factors <- c() \n",
        "  primes <- esieve(floor(sqrt(n))) \n",
        "  d <- which(n%%primes == 0) \n",
        "  if (length(d) == 0) \n",
        "    return(n)\n",
        "  for (q in primes[d]) { \n",
        "    while (n%%q == 0) { \n",
        "      factors <- c(factors, q)\n",
        "      n <- n/q } } \n",
        "  if (n > 1) factors <- c(factors, n)\n",
        "  return(factors)\n",
        "}\n",
        "\n",
        "print(max(prime.factors(13195)))\n",
        "\n",
        "In [ ]:\n",
        "\n",
        "Q2. The sum of the squares of the first ten natural numbers is,\n",
        "12+22+...+102=385\n",
        "The square of the sum of the first ten natural numbers is,\n",
        "(1+2+...+10)2=552=3025\n",
        "Hence the difference between the sum of the squares of the first ten natural numbers and the square of the sum is \n",
        "3025−385=2640\n",
        ".Find the difference between the sum of the squares of the first one hundred natural numbers and the square of the sum.\n",
        "\n",
        "In [ ]:\n",
        "\n",
        "sum=0;\n",
        "sq=0;\n",
        "res = 0;\n",
        "n = 10;\n",
        "\n",
        "sum = n*(n+1)/2;\n",
        "sq=(n*(n+1)*(2*n+1))/6;\n",
        "res=sum*sum-sq;\n",
        "print(res)\n",
        "\n",
        "In [ ]:\n",
        "\n",
        "A palindromic number reads the same both ways. The largest palindrome made from the product of two 2-digit numbers is 9009 = 91 × 99. Find the largest palindrome made from the product of two 3-digit numbers.\n",
        "\n",
        "In [ ]:\n",
        "\n",
        "{\n",
        "  n = as.integer(readline(prompt = \"Enter a number :\"))\n",
        "  \n",
        "  rev = 0\n",
        "  num = n\n",
        "  \n",
        "  while (n > 0) {\n",
        "    r = n %% 10\n",
        "    rev = rev * 10 + r\n",
        "    n = n %/% 10\n",
        "  }\n",
        "  \n",
        "  if (rev == num)\n",
        "  {\n",
        "    print(paste(\"Number is palindrome :\", rev))\n",
        "  }\n",
        "  else{\n",
        "    print(paste(\"Number is not palindrome :\", rev))\n",
        "  }\n",
        "}\n",
        "\n"
      ],
      "execution_count": null,
      "outputs": []
    }
  ]
}